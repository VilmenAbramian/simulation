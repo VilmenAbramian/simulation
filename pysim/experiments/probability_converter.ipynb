{
 "cells": [
  {
   "cell_type": "markdown",
   "id": "38dbafe3-c24a-4def-9095-092ab13ac0a9",
   "metadata": {},
   "source": [
    "Данный блокнот пересчитывает параметры протокола RFID и значения BER во\n",
    "входные данные для имитационных и аналитических моделей,\n",
    "которые рассчитывают время, необходимое для чтения RFID метки.\n",
    "Порядок работы с блокнотом:\n",
    "1) Задать параметры протокола RFID\n",
    "2) Выбрать номер сценария и задать дополнительные настройки\n",
    "3) Запустить вычисление входных параметров для моделей (массивов вероятностей и временных промежутков) на основе ранее заданных параметров\n",
    "4) Запустить расчёт одной или нескольких имитационных моделей\n",
    "5) Запустить расчёт одной или нескольких аналитических моделей\n",
    "6) На основе полученных результатов построить графики"
   ]
  },
  {
   "cell_type": "code",
   "execution_count": 1,
   "id": "b60d8162-f431-423d-a2c6-a02c78c2baee",
   "metadata": {},
   "outputs": [],
   "source": [
    "from itertools import product\n",
    "import math # Для работы аналитической модели\n",
    "import matplotlib\n",
    "import matplotlib.pyplot as plt\n",
    "import numpy as np\n",
    "import pandas as pd\n",
    "from pprint import pprint\n",
    "\n",
    "# Подключение старые пакеты для моделирования протокола RFID\n",
    "from pysim.models.monte_carlo.protocol import (TagFrame, ReaderFrame, TagEncoding,\n",
    "    Sel, DR, Session, Bank, InventoryFlag as Flag,\n",
    "    Query, QueryRep, Ack, ReqRn, Read,\n",
    "    Rn16Reply, AckReply, ReqRnReply, ReadReply, max_t1, max_t2)\n",
    "\n",
    "# Подключение имитационок для аналитики\n",
    "from pysim.models.monte_carlo.cli import create_config, run_multiple_simulation\n",
    "\n",
    "# Форматирование и работа с графиками\n",
    "from utility.jupyter_helpers import setup_matplotlib, get_color, savefig, \\\n",
    "    set_axes_formatter"
   ]
  },
  {
   "cell_type": "code",
   "execution_count": 2,
   "id": "9ccd13c0-6069-4475-9338-588592ce8652",
   "metadata": {},
   "outputs": [],
   "source": [
    "# Параметры модели\n",
    "POINTS_NUMBER = 10 # Количество моделируемых точек (= имитационок)\n",
    "# BER = 0.001 # Для рассчёта одной точки\n",
    "BER = np.linspace(0, 0.01, num=POINTS_NUMBER) # Для рассчёта нескольких точек\n",
    "CHUNKS_NUMBER = 1\n",
    "WORDS_NUMBER = 8\n",
    "\n",
    "# Параметры протокола RFID\n",
    "DRS = [DR.DR_8]\n",
    "M = [TagEncoding.FM0]\n",
    "TARI_US = [6.25]\n",
    "TRExt = (False,)"
   ]
  },
  {
   "cell_type": "code",
   "execution_count": 3,
   "id": "5dd42949-1da5-41af-89e6-4da1a3c80d92",
   "metadata": {},
   "outputs": [],
   "source": [
    "# Константы для запуска имитационной модели\n",
    "MODEL_NAME = 'Monte-Carlo-simulation'\n",
    "DEFAULT_PROBABILITY = ((1, 1, 1, 0.91),)\n",
    "DEFAULT_PROCESSING_TIME = ((1, 1, 1, 1),)\n",
    "DEFAULT_MAX_TRANSMISSIONS = 2000\n",
    "DEFAULT_SCENARIO = 1\n",
    "if CHUNKS_NUMBER > 1:\n",
    "    DEFAULT_SCENARIO = 3\n",
    "SCENARIOS_TUPLE = (1, 2, 3)"
   ]
  },
  {
   "cell_type": "code",
   "execution_count": 4,
   "id": "fcefbf5a-b4a4-4b39-b33a-6920f9504e8b",
   "metadata": {},
   "outputs": [
    {
     "name": "stdout",
     "output_type": "stream",
     "text": [
      "Слов в одном чанке: 8\n",
      "Слов в последнем чанке: 0\n"
     ]
    }
   ],
   "source": [
    "# Для 3-го сценария рассчёт размера 'чанков'\n",
    "words_number_in_one_chunk = WORDS_NUMBER\n",
    "last_chunk_len = 0\n",
    "number_chunks_to_send = CHUNKS_NUMBER\n",
    "if CHUNKS_NUMBER > 1:\n",
    "    words_number_in_one_chunk = WORDS_NUMBER // CHUNKS_NUMBER\n",
    "    last_chunk_len = WORDS_NUMBER // CHUNKS_NUMBER + WORDS_NUMBER % CHUNKS_NUMBER\n",
    "        \n",
    "print(f'Слов в одном чанке: {words_number_in_one_chunk}')\n",
    "print(f'Слов в последнем чанке: {last_chunk_len}')"
   ]
  },
  {
   "cell_type": "code",
   "execution_count": 5,
   "id": "f1ce775a-21a1-4232-9ccd-2a176b51d56d",
   "metadata": {},
   "outputs": [],
   "source": [
    "def random_hex_string(bs: int) -> str:\n",
    "    '''\n",
    "    Функция для генерации случайного EPC и TID\n",
    "    '''\n",
    "    return \"\".join([f\"{np.random.randint(0, 256):02X}\" for _ in range(bs)])"
   ]
  },
  {
   "cell_type": "code",
   "execution_count": 6,
   "id": "6240984d-9108-4a31-bb32-eb7d666ea177",
   "metadata": {},
   "outputs": [
    {
     "name": "stdout",
     "output_type": "stream",
     "text": [
      "Будут использованы следующие константы:\n",
      "- EPC: 10E3E4043B018252CB207EC9 (12 bytes)\n",
      "- TID: 8BE4D06BC17EEFC8 (8 bytes)\n"
     ]
    }
   ],
   "source": [
    "# Параметры протокола RFID, которые не изменяются в рамках всего исследования\n",
    "Q = 4             # по-умолчанию, будем исходить из этого значения параметра Q\n",
    "RTCAL_MUL = 2.75  # во сколько раз RTcal больше Tari\n",
    "TRCAL_MUL = 1.95  # во сколько раз TRcal больше RTcal\n",
    "EPC_SIZE = 12     # длина EPCID в байтах\n",
    "TID_SIZE = 8      # длина TID в байтах\n",
    "\n",
    "EPC = random_hex_string(EPC_SIZE)\n",
    "TID = random_hex_string(TID_SIZE)\n",
    "\n",
    "delta = 1e-5 # с. Константа для рассчёта времени\n",
    "\n",
    "print(\"Будут использованы следующие константы:\")\n",
    "print(f\"- EPC: {EPC} ({EPC_SIZE} bytes)\")\n",
    "print(f\"- TID: {TID} ({TID_SIZE} bytes)\")"
   ]
  },
  {
   "cell_type": "code",
   "execution_count": 7,
   "id": "12d89af1-9b46-47c3-b353-d72215e3c229",
   "metadata": {},
   "outputs": [],
   "source": [
    "def build_messages_df() -> pd.DataFrame:\n",
    "    \"\"\"\n",
    "    Построить DataFrame для всевозможных настроек канала и рассчитанными \n",
    "    длительностями команд и ответов.\n",
    "    \n",
    "    В датафрейме используются следующие единицы измерений:\n",
    "    \n",
    "    - для длительностей: микросекунды (мкс)\n",
    "    - для частот: килогерцы (КГц)\n",
    "    - для скоростей: килобиты в секунду (кбит/с)\n",
    "    \n",
    "    Returns:\n",
    "        df (DataFrame)\n",
    "    \"\"\"\n",
    "    params = []\n",
    "    for tari_us, m, dr, trext in product(TARI_US, M, DRS, TRExt):\n",
    "        tari = tari_us * 1e-6\n",
    "        rtcal = RTCAL_MUL * tari\n",
    "        trcal = TRCAL_MUL * rtcal\n",
    "        blf = dr.ratio / trcal\n",
    "        bitrate = blf / m.value\n",
    "        \n",
    "        # Строим команды\n",
    "        # --------------\n",
    "        preamble = ReaderFrame.Preamble(tari, rtcal, trcal)\n",
    "        sync = ReaderFrame.Sync(tari, rtcal)\n",
    "        \n",
    "        query = Query(dr=dr, m=m, trext=trext, sel=Sel.SL_ALL, \n",
    "                           session=Session.S0, target=Flag.A, \n",
    "                           q=Q, crc5=0x15)\n",
    "        query_rep = QueryRep(session=Session.S0)\n",
    "        ack = Ack(0x5555)\n",
    "        req_rn = ReqRn(0x5555, 0x5555)\n",
    "        read = Read(Bank.TID, 0, 4, rn=0x5555, crc16=0x5555)\n",
    "        \n",
    "        # Строим ответы\n",
    "        # -------------\n",
    "        rn16 = Rn16Reply(0x5555)\n",
    "        epc_pc = AckReply(EPC)\n",
    "        handle = ReqRnReply(0)\n",
    "        data = []\n",
    "        # Для 3го сценария создаём несколько ответов для каждого 'чанка'\n",
    "        if CHUNKS_NUMBER > 1:\n",
    "            for i in range(CHUNKS_NUMBER-1):\n",
    "                data.append(ReadReply([0xABAB] * words_number_in_one_chunk, 0, 0))\n",
    "            data.append(ReadReply([0xABAB] * last_chunk_len, 0, 0))\n",
    "        else:\n",
    "            data = [ReadReply([0xABAB] * WORDS_NUMBER, 0, 0)]\n",
    "        data_durations = []\n",
    "        data_lens = []\n",
    "        for data_answer in data:\n",
    "            data_durations.append(TagFrame(m, trext, blf, data_answer).duration)\n",
    "            data_lens.append(TagFrame(m, trext, blf, data_answer).bitlen)\n",
    "\n",
    "        params.append({\n",
    "            'DR': dr,\n",
    "            'M': m,\n",
    "            'Tari': tari_us,     \n",
    "            'TRext': trext,\n",
    "            'RTcal': rtcal,\n",
    "            'TRcal': trcal,\n",
    "            'BLF': blf,\n",
    "            'Query': ReaderFrame(preamble, query).duration,\n",
    "            'QueryRep': ReaderFrame(sync, query_rep).duration,\n",
    "            'Ack': ReaderFrame(sync, ack).duration,\n",
    "            'Req_RN': ReaderFrame(sync, req_rn).duration,\n",
    "            'Read': ReaderFrame(sync, read).duration,\n",
    "            'Query_len': 22,\n",
    "            'RN16': TagFrame(m, trext, blf, rn16).duration,\n",
    "            'EPC+PC+CRC': TagFrame(m, trext, blf, epc_pc).duration,\n",
    "            'Handle': TagFrame(m, trext, blf, handle).duration,\n",
    "            'Data': data_durations,\n",
    "            'RN16_len': TagFrame(m, trext, blf, rn16).bitlen,\n",
    "            'EPC+PC+CRC_len': TagFrame(m, trext, blf, epc_pc).bitlen,\n",
    "            'Handle_len': TagFrame(m, trext, blf, handle).bitlen,\n",
    "            'Data_len': data_lens,\n",
    "        })\n",
    "    return params\n",
    "\n",
    "params = build_messages_df()\n",
    "DF = pd.DataFrame(params)"
   ]
  },
  {
   "cell_type": "markdown",
   "id": "363b3726-06b2-4af6-92d3-01121ecdec39",
   "metadata": {},
   "source": [
    "Вероятность успешного перехода из одного состояния в другое определяется\n",
    "исключительно ответами метки (так как во всём проекте сделано допущение, что\n",
    "если метка оказалась в зоне чтения, то она гарантировано включается, корректно\n",
    "получает команду считывателя и принимает участие в текущем раунде). Вероятность\n",
    "перехода в следующее состояние равна вероятности успешного получения считывателем\n",
    "ответа метки.\n",
    "Вероятность определяется выражением:\n",
    "$$ P_{msg} = (1 - BER)^{|msg|} $$\n",
    "где msg - передаваемое сообщение, BER - вероятность битовой ошибки, |msg| - длина сообщения в битах"
   ]
  },
  {
   "cell_type": "code",
   "execution_count": 8,
   "id": "9baff717-c671-4483-8db5-5db06e8deacd",
   "metadata": {},
   "outputs": [
    {
     "name": "stdout",
     "output_type": "stream",
     "text": [
      "Рассчитанные вероятности:\n",
      "[array([1.        , 0.97475437, 0.95011905, 0.92607993, 0.90262323,\n",
      "       0.87973545, 0.85740343, 0.83561425, 0.81435531, 0.79361428]),\n",
      " array([1.        , 0.8606362 , 0.74057096, 0.63714905, 0.5480782 ,\n",
      "       0.47137983, 0.40534635, 0.34850433, 0.29958259, 0.25748461]),\n",
      " array([1.        , 0.95756907, 0.91689428, 0.87790477, 0.8405325 ,\n",
      "       0.80471206, 0.77038065, 0.73747793, 0.70594595, 0.67572905]),\n",
      " array([1.        , 0.82963416, 0.68814978, 0.570675  , 0.47315566,\n",
      "       0.39221875, 0.32505853, 0.26934164, 0.22312794, 0.18480456])]\n",
      "Сгрупированные вероятности:\n",
      "[[np.float64(1.0), np.float64(1.0), np.float64(1.0), np.float64(1.0)],\n",
      " [np.float64(0.9747543742077994),\n",
      "  np.float64(0.8606362005788438),\n",
      "  np.float64(0.9575690695248866),\n",
      "  np.float64(0.829634159329628)],\n",
      " [np.float64(0.9501190508939553),\n",
      "  np.float64(0.7405709561020657),\n",
      "  np.float64(0.9168942767866947),\n",
      "  np.float64(0.6881497783069531)],\n",
      " [np.float64(0.9260799313517637),\n",
      "  np.float64(0.6371490452183012),\n",
      "  np.float64(0.8779047737653359),\n",
      "  np.float64(0.5706749975147037)],\n",
      " [np.float64(0.9026232274042398),\n",
      "  np.float64(0.5480782023669489),\n",
      "  np.float64(0.8405324964658604),\n",
      "  np.float64(0.4731556576454626)],\n",
      " [np.float64(0.8797354548993922),\n",
      "  np.float64(0.47137982771885373),\n",
      "  np.float64(0.8047120584404158),\n",
      "  np.float64(0.3922187463966538)],\n",
      " [np.float64(0.8574034273346864),\n",
      "  np.float64(0.4053463466742837),\n",
      "  np.float64(0.7703806482705066),\n",
      "  np.float64(0.32505853364895837)],\n",
      " [np.float64(0.8356142496083467),\n",
      "  np.float64(0.3485043278138243),\n",
      "  np.float64(0.7374779308665433),\n",
      "  np.float64(0.2693416445217666)],\n",
      " [np.float64(0.8143553118950401),\n",
      "  np.float64(0.2995825868128345),\n",
      "  np.float64(0.7059459524464675),\n",
      "  np.float64(0.22312793665795239)],\n",
      " [np.float64(0.7936142836436554),\n",
      "  np.float64(0.25748460676394874),\n",
      "  np.float64(0.6757290490602831),\n",
      "  np.float64(0.1848045639485463)]]\n"
     ]
    }
   ],
   "source": [
    "reply_lens = [\n",
    "    params[0]['RN16_len'],\n",
    "    params[0]['EPC+PC+CRC_len'],\n",
    "    params[0]['Handle_len'],\n",
    "]\n",
    "for i in range(CHUNKS_NUMBER):\n",
    "    reply_lens.append(params[0]['Data_len'][i])\n",
    "\n",
    "probabilities = []\n",
    "for i in range(len(reply_lens)):\n",
    "    probabilities.append((1 - BER) ** reply_lens[i])\n",
    "print('Рассчитанные вероятности:')\n",
    "pprint(probabilities)\n",
    "\n",
    "# Группировка вероятностей по массивам:\n",
    "# [\n",
    "#   [Массив вероятностей 1], ..., [Массив вероятностей n]\n",
    "# ]\n",
    "probs = []\n",
    "sub_probabilities = []\n",
    "for i in range(POINTS_NUMBER):\n",
    "    for state_number in range(len(reply_lens)):\n",
    "        sub_probabilities.append(probabilities[state_number][i])\n",
    "    probs.append(sub_probabilities)\n",
    "    sub_probabilities = []\n",
    "print('Сгрупированные вероятности:')\n",
    "pprint(probs)"
   ]
  },
  {
   "cell_type": "markdown",
   "id": "a04bbdc8-5e69-48f5-9d69-d30427c4b7a2",
   "metadata": {},
   "source": [
    "Время перехода из одного состояния в другое вычисляется по формулам:\n",
    "$$T_{Arbitrate} = T_{Query} + T_1 + T_{RN16} + T_2 + 2\\delta$$ \n",
    "$$T_{Reply} = T_{Ack} + T_1 + T_{EPC} + T_2 + 2\\delta$$\n",
    "$$T_{Acknowledged} = T_{Req_RN} + T_1 + T_{Handle} + T_2 + 2\\delta$$\n",
    "$$T_{Secured} = T_{Read} + T_1 + T_{Data} + T_2 + 2\\delta$$\n",
    "$$T_{Secured.Ri} = T_{Read} + T_1 + T_{Chunk.i} + T_2 + 2\\delta$$\n",
    "$$T_{Secured.LC} = T_{Read} + T_1 + T_{Last.Chunk} + T_2 + 2\\delta$$\n",
    "где $T_{msg.name}$ - длительность команды считывателя или ответа метки, \n",
    "$T_{Secured.Ri}$ - длительность для i-го 'чанка', \n",
    "$T_{Secured.ДС}$ - длительность последнего 'чанка', \n",
    "$T_1$ и $T_2$ - параметры, определяемые протоколом RFID (в блокноте рассчитываются с помощью функций), \n",
    "$\\delta$ - время распространения сигнала (в блокноте определяется как взятая наобум константа)"
   ]
  },
  {
   "cell_type": "code",
   "execution_count": 9,
   "id": "6fad5036-8b74-4590-a790-babf520f3913",
   "metadata": {},
   "outputs": [],
   "source": [
    "T1 = max_t1(params[0]['RTcal'], params[0]['BLF'])\n",
    "T2 = max_t2(params[0]['BLF'])\n",
    "T1_2 = T1 + T2"
   ]
  },
  {
   "cell_type": "code",
   "execution_count": 10,
   "id": "b8365c9f-9050-4c4d-ab90-206daaae86f3",
   "metadata": {},
   "outputs": [
    {
     "data": {
      "text/plain": [
       "[0.00047862109374999993,\n",
       " 0.0009080742187499999,\n",
       " 0.0006902617187499999,\n",
       " 0.0013525761718749998]"
      ]
     },
     "execution_count": 10,
     "metadata": {},
     "output_type": "execute_result"
    }
   ],
   "source": [
    "times = []\n",
    "T_arbitrate = T1_2 + params[0]['Query'] + params[0]['RN16'] + 2 * delta\n",
    "times.append(T_arbitrate)\n",
    "T_reply = T1_2 + params[0]['Ack'] + params[0]['EPC+PC+CRC'] + 2 * delta\n",
    "times.append(T_reply)\n",
    "T_acknowledged = T1_2 + params[0]['Req_RN'] + params[0]['Handle'] + 2 * delta\n",
    "times.append(T_acknowledged)\n",
    "\n",
    "for i in range(CHUNKS_NUMBER):\n",
    "    t_chunk = T1_2 + params[0]['Read'] + params[0]['Data'][i] + 2 * delta\n",
    "    times.append(t_chunk)\n",
    "times"
   ]
  },
  {
   "cell_type": "code",
   "execution_count": 11,
   "id": "94d18a07-8ca1-4fd8-919a-9ab39a9cefd6",
   "metadata": {
    "scrolled": true
   },
   "outputs": [],
   "source": [
    "# Ячейка группирует входные массивы парами:\n",
    "# [\n",
    "#   [[Массив вероятностей 1],[Массив времён 1]], ...\n",
    "#   [[Массив вероятностей n],[Массив времён n]],\n",
    "# ]\n",
    "# initial_data_pairs = []\n",
    "# sub_probabilities = []\n",
    "# sub_times = []\n",
    "# for i in range(POINTS_NUMBER):\n",
    "#     for state_number in range(len(reply_lens)):\n",
    "#         sub_probabilities.append(probabilities[state_number][i])\n",
    "#     initial_data_pairs.append((sub_probabilities, times))\n",
    "#     sub_probabilities = []\n",
    "# initial_data_pairs\n",
    "\n"
   ]
  },
  {
   "cell_type": "code",
   "execution_count": 12,
   "id": "594b38cc-00d3-47ca-be93-b7c6aae2e612",
   "metadata": {
    "scrolled": true
   },
   "outputs": [
    {
     "name": "stdout",
     "output_type": "stream",
     "text": [
      "Сгрупированные вероятности:\n",
      "[[np.float64(1.0), np.float64(1.0), np.float64(1.0), np.float64(1.0)],\n",
      " [np.float64(0.9747543742077994),\n",
      "  np.float64(0.8606362005788438),\n",
      "  np.float64(0.9575690695248866),\n",
      "  np.float64(0.829634159329628)],\n",
      " [np.float64(0.9501190508939553),\n",
      "  np.float64(0.7405709561020657),\n",
      "  np.float64(0.9168942767866947),\n",
      "  np.float64(0.6881497783069531)],\n",
      " [np.float64(0.9260799313517637),\n",
      "  np.float64(0.6371490452183012),\n",
      "  np.float64(0.8779047737653359),\n",
      "  np.float64(0.5706749975147037)],\n",
      " [np.float64(0.9026232274042398),\n",
      "  np.float64(0.5480782023669489),\n",
      "  np.float64(0.8405324964658604),\n",
      "  np.float64(0.4731556576454626)],\n",
      " [np.float64(0.8797354548993922),\n",
      "  np.float64(0.47137982771885373),\n",
      "  np.float64(0.8047120584404158),\n",
      "  np.float64(0.3922187463966538)],\n",
      " [np.float64(0.8574034273346864),\n",
      "  np.float64(0.4053463466742837),\n",
      "  np.float64(0.7703806482705066),\n",
      "  np.float64(0.32505853364895837)],\n",
      " [np.float64(0.8356142496083467),\n",
      "  np.float64(0.3485043278138243),\n",
      "  np.float64(0.7374779308665433),\n",
      "  np.float64(0.2693416445217666)],\n",
      " [np.float64(0.8143553118950401),\n",
      "  np.float64(0.2995825868128345),\n",
      "  np.float64(0.7059459524464675),\n",
      "  np.float64(0.22312793665795239)],\n",
      " [np.float64(0.7936142836436554),\n",
      "  np.float64(0.25748460676394874),\n",
      "  np.float64(0.6757290490602831),\n",
      "  np.float64(0.1848045639485463)]]\n"
     ]
    }
   ],
   "source": [
    "# Группировка вероятностей по массивам:\n",
    "# [\n",
    "#   [Массив вероятностей 1], ..., [Массив вероятностей n]\n",
    "# ]\n",
    "probs = []\n",
    "sub_probabilities = []\n",
    "for i in range(POINTS_NUMBER):\n",
    "    for state_number in range(len(reply_lens)):\n",
    "        sub_probabilities.append(probabilities[state_number][i])\n",
    "    probs.append(sub_probabilities)\n",
    "    sub_probabilities = []\n",
    "print('Сгрупированные вероятности:')\n",
    "pprint(probs)"
   ]
  },
  {
   "cell_type": "code",
   "execution_count": 13,
   "id": "a5a544a0-3ff9-4053-b694-0790effb6a7c",
   "metadata": {
    "scrolled": true
   },
   "outputs": [
    {
     "name": "stdout",
     "output_type": "stream",
     "text": [
      "Копированные массивы времени: \n",
      "[[0.00047862109374999993,\n",
      "  0.0009080742187499999,\n",
      "  0.0006902617187499999,\n",
      "  0.0013525761718749998],\n",
      " [0.00047862109374999993,\n",
      "  0.0009080742187499999,\n",
      "  0.0006902617187499999,\n",
      "  0.0013525761718749998],\n",
      " [0.00047862109374999993,\n",
      "  0.0009080742187499999,\n",
      "  0.0006902617187499999,\n",
      "  0.0013525761718749998],\n",
      " [0.00047862109374999993,\n",
      "  0.0009080742187499999,\n",
      "  0.0006902617187499999,\n",
      "  0.0013525761718749998],\n",
      " [0.00047862109374999993,\n",
      "  0.0009080742187499999,\n",
      "  0.0006902617187499999,\n",
      "  0.0013525761718749998],\n",
      " [0.00047862109374999993,\n",
      "  0.0009080742187499999,\n",
      "  0.0006902617187499999,\n",
      "  0.0013525761718749998],\n",
      " [0.00047862109374999993,\n",
      "  0.0009080742187499999,\n",
      "  0.0006902617187499999,\n",
      "  0.0013525761718749998],\n",
      " [0.00047862109374999993,\n",
      "  0.0009080742187499999,\n",
      "  0.0006902617187499999,\n",
      "  0.0013525761718749998],\n",
      " [0.00047862109374999993,\n",
      "  0.0009080742187499999,\n",
      "  0.0006902617187499999,\n",
      "  0.0013525761718749998],\n",
      " [0.00047862109374999993,\n",
      "  0.0009080742187499999,\n",
      "  0.0006902617187499999,\n",
      "  0.0013525761718749998]]\n"
     ]
    }
   ],
   "source": [
    "# Копирование массивов времени по количеству\n",
    "# массивов вероятности\n",
    "t = []\n",
    "for _ in range(len(probs)):\n",
    "    t.append(times)\n",
    "print('Копированные массивы времени: ')\n",
    "pprint(t)"
   ]
  },
  {
   "cell_type": "code",
   "execution_count": 14,
   "id": "09f15467-5dc5-46f2-8fe8-b272a691bea2",
   "metadata": {},
   "outputs": [],
   "source": [
    "# Подготовка словарей для запуска имитационок\n",
    "# Словарь для запуска одной имитационки:\n",
    "def create_dicts(probabilities, times, scenario):\n",
    "    initial_dict = {\n",
    "        'probability': probabilities,\n",
    "        'processing_time': times,\n",
    "        'max_transmisions': DEFAULT_MAX_TRANSMISSIONS,\n",
    "        'chunks_number': CHUNKS_NUMBER,\n",
    "        'scenario': scenario\n",
    "    }\n",
    "    # Словарь для запуска нескольких имитационок параллельно\n",
    "    multiple_initial_dict = {\n",
    "        'probability': probs,\n",
    "        'processing_time': t,\n",
    "        'max_transmisions': DEFAULT_MAX_TRANSMISSIONS,\n",
    "        'chunks_number': CHUNKS_NUMBER,\n",
    "        'scenario': DEFAULT_SCENARIO\n",
    "    }\n",
    "    return multiple_initial_dict\n",
    "\n",
    "multiple_initial_dict = create_dicts(probabilities, times, DEFAULT_SCENARIO)"
   ]
  },
  {
   "cell_type": "code",
   "execution_count": 15,
   "id": "8ac27f65-e128-4466-9069-4e16398e26d5",
   "metadata": {},
   "outputs": [
    {
     "name": "stdout",
     "output_type": "stream",
     "text": [
      "Симуляция завершена\n",
      "Симуляция завершена\n",
      "Симуляция завершена\n",
      "Симуляция завершена\n",
      "Симуляция завершена\n",
      "Симуляция завершена\n",
      "Симуляция завершена\n",
      "Симуляция завершена\n",
      "Симуляция завершена\n",
      "Симуляция завершена\n"
     ]
    }
   ],
   "source": [
    "def run_set_simulations(start_dict):\n",
    "    return run_multiple_simulation(start_dict)\n",
    "\n",
    "results = run_set_simulations(multiple_initial_dict)"
   ]
  },
  {
   "cell_type": "code",
   "execution_count": 16,
   "id": "c4a6bcee-1b98-4329-93c4-8b5ac93bf09a",
   "metadata": {},
   "outputs": [
    {
     "name": "stdout",
     "output_type": "stream",
     "text": [
      "Результаты симуляции: [3.4295332031252768, 4.27643470507846, 5.428967398437663, 7.091938134765519, 9.013015498047716, 12.263912378911952, 16.582846869152615, 23.588281068357535, 32.656721806616524, 44.711694857367064]\n",
      "Значения BER: [0.         0.00111111 0.00222222 0.00333333 0.00444444 0.00555556\n",
      " 0.00666667 0.00777778 0.00888889 0.01      ]\n"
     ]
    }
   ],
   "source": [
    "# Вывод на печать полученных результатов\n",
    "res = []\n",
    "for i in results:\n",
    "    res.append(i.sim_time/DEFAULT_MAX_TRANSMISSIONS*1_000)\n",
    "print(f'Результаты симуляции: {res}')\n",
    "print(f'Значения BER: {BER}')"
   ]
  },
  {
   "cell_type": "markdown",
   "id": "2fc92282-58e5-4096-b201-ae978c57a5b9",
   "metadata": {},
   "source": [
    "Следующие ячейки описывают аналитическую модель.\n",
    "Данные на входе и выходе аналитических и имитационных моделей идентичны.\n",
    "Отличия могут быть быть только в формате."
   ]
  },
  {
   "cell_type": "code",
   "execution_count": 17,
   "id": "bcde059d-415e-4d8e-aad1-2196570fd678",
   "metadata": {
    "jupyter": {
     "source_hidden": true
    }
   },
   "outputs": [],
   "source": [
    "# phases is array of tuples (p, t), where p is transmission prob, t is timeout time\n",
    "def calculate_first_case(phases):\n",
    "    res = 0;\n",
    "    times = [phase[1] for phase in phases]\n",
    "    probs = [phase[0] for phase in phases]\n",
    "    \n",
    "    for n1 in range(40):\n",
    "        for n2 in range(40):\n",
    "            for n3 in range(40):\n",
    "                for n4 in range(40):\n",
    "                    t = times[0] + times[1] + times[2] + times[3] + (n1 + n2+ n3 + n4) * times[0] + (n2 + n3 + n4) * times[1] + (n3 + n4) * times[2] + n4 * times[3]\n",
    "                    p = ((1 - probs[0]) ** n1) * (probs[0] ** (n2 + n3 + n4 + 1)) * ((1 - probs[1]) ** n2) * (probs[1] ** (n3 + n4 + 1)) * ((1 - probs[2]) ** n3) * (probs[2] ** (n4 + 1)) * ((1 - probs[3]) ** n4) * probs[3]\n",
    "                    fact = math.factorial(n1 + n2 + n3 + n4) / (math.factorial(n1) * math.factorial(n2) * math.factorial(n3) * math.factorial(n4))\n",
    "                    res += t * p * fact\n",
    "\n",
    "    return res\n",
    "                        "
   ]
  },
  {
   "cell_type": "code",
   "execution_count": 18,
   "id": "9e52fe08-9c9c-46c9-8361-384564bcc7aa",
   "metadata": {
    "jupyter": {
     "source_hidden": true
    }
   },
   "outputs": [],
   "source": [
    "# phases is array of tuples (p, t), where p is transmission prob, t is timeout time\n",
    "def calculate_second_case(phases):\n",
    "    res = 0\n",
    "\n",
    "    for phase in phases:\n",
    "        for n in range(1000):\n",
    "            res += (n + 1) * phase[1] * phase[0] * ((1 - phase[0]) ** n)\n",
    "\n",
    "    return res"
   ]
  },
  {
   "cell_type": "code",
   "execution_count": 19,
   "id": "2a244875-97a0-4c87-944f-22458e31da15",
   "metadata": {
    "jupyter": {
     "source_hidden": true
    }
   },
   "outputs": [],
   "source": [
    "def calculate_third_case(phases, chunk_phase, chunk_count):\n",
    "    return calculate_second_case(phases) + chunk_count * calculate_second_case([chunk_phase])"
   ]
  },
  {
   "cell_type": "code",
   "execution_count": 20,
   "id": "05362f59-3dae-48a7-bff6-cd88228deffd",
   "metadata": {},
   "outputs": [],
   "source": [
    "# Коневертация данных в формат, который требуют аналитические модели\n",
    "all_phases = []\n",
    "sub_phase = []\n",
    "for cases in range(len(probs)):\n",
    "    for state_number in range(len(probs[0])):\n",
    "        sub_phase.append((probs[cases][state_number], t[cases][state_number]))\n",
    "    all_phases.append(sub_phase)\n",
    "    sub_phase = []\n",
    "# all_phases"
   ]
  },
  {
   "cell_type": "code",
   "execution_count": 21,
   "id": "9c058969-fa33-4fa0-bb8b-c8365604dac2",
   "metadata": {
    "scrolled": true
   },
   "outputs": [],
   "source": [
    "def run_analitica(script_number: int):\n",
    "    analit_res = []\n",
    "    if script_number == 1:\n",
    "        for i in range(len(all_phases)):\n",
    "            analit_res.append(calculate_first_case(all_phases[i])*1_000)\n",
    "    elif script_number == 2:\n",
    "        for i in range(len(all_phases)):\n",
    "            analit_res.append(calculate_second_case(all_phases[i])*1_000)\n",
    "    elif script_number == 3:\n",
    "        for i in range(3):\n",
    "            analit_res.append(calculate_third_case(all_phases[i], all_phases[-1], CHUNKS_NUMBER)*1_000)\n",
    "    return analit_res\n",
    "\n",
    "analit_res = run_analitica(DEFAULT_SCENARIO)"
   ]
  },
  {
   "cell_type": "code",
   "execution_count": 22,
   "id": "1960202b-74cf-4b85-97ed-a13cfd3755ed",
   "metadata": {},
   "outputs": [
    {
     "data": {
      "text/plain": [
       "Text(0, 0.5, 'Длительность ответа, мс')"
      ]
     },
     "execution_count": 22,
     "metadata": {},
     "output_type": "execute_result"
    },
    {
     "data": {
      "image/png": "[encoded data removed]",
      "text/plain": [
       "<Figure size 1000x500 with 1 Axes>"
      ]
     },
     "metadata": {},
     "output_type": "display_data"
    }
   ],
   "source": [
    "fig, ax = plt.subplots(figsize=(10, 5), layout='constrained')\n",
    "ax.plot(\n",
    "    BER, res,\n",
    "    linewidth=3, linestyle='-',\n",
    "    marker='s',\n",
    "    markersize=4,\n",
    ")\n",
    "ax.plot(\n",
    "    BER, analit_res,\n",
    "    linewidth=3, linestyle='dotted',\n",
    "    marker='s',\n",
    "    markersize=4,\n",
    ")\n",
    "ax.set_title('Время чтения')\n",
    "ax.set_xlabel('BER') \n",
    "ax.set_ylabel('Длительность ответа, мс')"
   ]
  },
  {
   "cell_type": "code",
   "execution_count": null,
   "id": "b40b0bf4-39f1-4a6a-8558-98b34d8200af",
   "metadata": {},
   "outputs": [],
   "source": []
  }
 ],
 "metadata": {
  "kernelspec": {
   "display_name": "Python 3 (ipykernel)",
   "language": "python",
   "name": "python3"
  },
  "language_info": {
   "codemirror_mode": {
    "name": "ipython",
    "version": 3
   },
   "file_extension": ".py",
   "mimetype": "text/x-python",
   "name": "python",
   "nbconvert_exporter": "python",
   "pygments_lexer": "ipython3",
   "version": "3.12.3"
  }
 },
 "nbformat": 4,
 "nbformat_minor": 5
}
