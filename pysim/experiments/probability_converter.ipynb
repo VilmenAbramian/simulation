{
 "cells": [
  {
   "cell_type": "code",
   "execution_count": 1,
   "id": "b60d8162-f431-423d-a2c6-a02c78c2baee",
   "metadata": {},
   "outputs": [],
   "source": [
    "from itertools import product\n",
    "import numpy as np\n",
    "import pandas as pd\n",
    "\n",
    "# Подключаем старые пакеты для моделирования протокола RFID\n",
    "from pysim.models.monte_carlo.protocol import (TagFrame, ReaderFrame, TagEncoding,\n",
    "    Sel, DR, Session, Bank, InventoryFlag as Flag,\n",
    "    Query, QueryRep, Ack, ReqRn, Read,\n",
    "    Rn16Reply, AckReply, ReqRnReply, ReadReply, max_t1, max_t2)\n",
    "\n",
    "from pysim.models.monte_carlo.cli import cli_run"
   ]
  },
  {
   "cell_type": "code",
   "execution_count": 2,
   "id": "9ccd13c0-6069-4475-9338-588592ce8652",
   "metadata": {},
   "outputs": [],
   "source": [
    "# Параметры модели\n",
    "BER = 0.001\n",
    "CHUNKS_NUMBER = 2\n",
    "WORDS_NUMBER = 61\n",
    "\n",
    "# Параметры протокола RFID\n",
    "DRS = [DR.DR_8]\n",
    "M = [TagEncoding.FM0]\n",
    "TARI_US = [6.25]\n",
    "TRExt = (False,)"
   ]
  },
  {
   "cell_type": "code",
   "execution_count": 3,
   "id": "fcefbf5a-b4a4-4b39-b33a-6920f9504e8b",
   "metadata": {},
   "outputs": [
    {
     "name": "stdout",
     "output_type": "stream",
     "text": [
      "Слов в одном чанке: 30\n",
      "Слов в последнем чанке: 31\n"
     ]
    }
   ],
   "source": [
    "words_number_in_one_chunk = WORDS_NUMBER\n",
    "last_chunk_len = 0\n",
    "number_chunks_to_send = CHUNKS_NUMBER\n",
    "if CHUNKS_NUMBER > 1:\n",
    "    words_number_in_one_chunk = WORDS_NUMBER // CHUNKS_NUMBER\n",
    "    last_chunk_len = WORDS_NUMBER // CHUNKS_NUMBER + WORDS_NUMBER % CHUNKS_NUMBER\n",
    "        \n",
    "print(f'Слов в одном чанке: {words_number_in_one_chunk}')\n",
    "print(f'Слов в последнем чанке: {last_chunk_len}')"
   ]
  },
  {
   "cell_type": "code",
   "execution_count": 4,
   "id": "f1ce775a-21a1-4232-9ccd-2a176b51d56d",
   "metadata": {},
   "outputs": [],
   "source": [
    "def random_hex_string(bs: int) -> str:\n",
    "    '''\n",
    "    Для генерации случайного EPC и TID\n",
    "    '''\n",
    "    return \"\".join([f\"{np.random.randint(0, 256):02X}\" for _ in range(bs)])"
   ]
  },
  {
   "cell_type": "code",
   "execution_count": 5,
   "id": "6240984d-9108-4a31-bb32-eb7d666ea177",
   "metadata": {},
   "outputs": [
    {
     "name": "stdout",
     "output_type": "stream",
     "text": [
      "Будут использованы следующие константы:\n",
      "- EPC: 650E95BE7A39BE8033C36AAA (12 bytes)\n",
      "- TID: 1284731B53F20C6F (8 bytes)\n"
     ]
    }
   ],
   "source": [
    "Q = 4             # по-умолчанию, будем исходить из этого значения параметра Q\n",
    "RTCAL_MUL = 2.75  # во сколько раз RTcal больше Tari\n",
    "TRCAL_MUL = 1.95  # во сколько раз TRcal больше RTcal\n",
    "EPC_SIZE = 12     # длина EPCID в байтах\n",
    "TID_SIZE = 8      # длина TID в байтах\n",
    "\n",
    "EPC = random_hex_string(EPC_SIZE)\n",
    "TID = random_hex_string(TID_SIZE)\n",
    "\n",
    "print(\"Будут использованы следующие константы:\")\n",
    "print(f\"- EPC: {EPC} ({EPC_SIZE} bytes)\")\n",
    "print(f\"- TID: {TID} ({TID_SIZE} bytes)\")"
   ]
  },
  {
   "cell_type": "code",
   "execution_count": 6,
   "id": "12d89af1-9b46-47c3-b353-d72215e3c229",
   "metadata": {},
   "outputs": [
    {
     "data": {
      "text/plain": [
       "[{'DR': <DR.DR_8: 0>,\n",
       "  'M': <TagEncoding.FM0: 1>,\n",
       "  'Tari': 6.25,\n",
       "  'TRext': False,\n",
       "  'RTcal': 1.7187499999999998e-05,\n",
       "  'TRcal': 3.3515624999999996e-05,\n",
       "  'BLF': 238694.6386946387,\n",
       "  'Query': 0.00023039062499999996,\n",
       "  'QueryRep': 6.09375e-05,\n",
       "  'Ack': 0.00019062499999999998,\n",
       "  'Req_RN': 0.00037499999999999995,\n",
       "  'Read': 0.0004968749999999999,\n",
       "  'Query_len': 22,\n",
       "  'RN16': 9.6357421875e-05,\n",
       "  'EPC+PC+CRC': 0.0005655761718749999,\n",
       "  'Handle': 0.000163388671875,\n",
       "  'Data': [0.002178515625, 0.0022455468749999997],\n",
       "  'RN16_len': 23,\n",
       "  'EPC+PC+CRC_len': 135,\n",
       "  'Handle_len': 39,\n",
       "  'Data_len': [520, 536]}]"
      ]
     },
     "execution_count": 6,
     "metadata": {},
     "output_type": "execute_result"
    }
   ],
   "source": [
    "def build_messages_df() -> pd.DataFrame:\n",
    "    \"\"\"\n",
    "    Построить DataFrame для всевозможных настроек канала и рассчитанными \n",
    "    длительностями команд и ответов.\n",
    "    \n",
    "    В датафрейме используются следующие единицы измерений:\n",
    "    \n",
    "    - для длительностей: микросекунды (мкс)\n",
    "    - для частот: килогерцы (КГц)\n",
    "    - для скоростей: килобиты в секунду (кбит/с)\n",
    "    \n",
    "    Returns:\n",
    "        df (DataFrame)\n",
    "    \"\"\"\n",
    "    params = []\n",
    "    for tari_us, m, dr, trext in product(TARI_US, M, DRS, TRExt):\n",
    "        tari = tari_us * 1e-6\n",
    "        rtcal = RTCAL_MUL * tari\n",
    "        trcal = TRCAL_MUL * rtcal\n",
    "        blf = dr.ratio / trcal\n",
    "        bitrate = blf / m.value\n",
    "        \n",
    "        # Строим команды\n",
    "        # --------------\n",
    "        preamble = ReaderFrame.Preamble(tari, rtcal, trcal)\n",
    "        sync = ReaderFrame.Sync(tari, rtcal)\n",
    "        \n",
    "        query = Query(dr=dr, m=m, trext=trext, sel=Sel.SL_ALL, \n",
    "                           session=Session.S0, target=Flag.A, \n",
    "                           q=Q, crc5=0x15)\n",
    "        query_rep = QueryRep(session=Session.S0)\n",
    "        ack = Ack(0x5555)\n",
    "        req_rn = ReqRn(0x5555, 0x5555)\n",
    "        read = Read(Bank.TID, 0, 4, rn=0x5555, crc16=0x5555)\n",
    "        \n",
    "        # Строим ответы\n",
    "        # -------------\n",
    "        rn16 = Rn16Reply(0x5555)\n",
    "        epc_pc = AckReply(EPC)\n",
    "        handle = ReqRnReply(0)\n",
    "        data = []\n",
    "        if CHUNKS_NUMBER > 1:\n",
    "            for i in range(CHUNKS_NUMBER-1):\n",
    "                data.append(ReadReply([0xABAB] * words_number_in_one_chunk, 0, 0))\n",
    "            data.append(ReadReply([0xABAB] * last_chunk_len, 0, 0))\n",
    "        else:\n",
    "            data = [ReadReply([0xABAB] * WORDS_NUMBER, 0, 0)]\n",
    "        data_durations = []\n",
    "        data_lens = []\n",
    "        for data_answer in data:\n",
    "            data_durations.append(TagFrame(m, trext, blf, data_answer).duration)\n",
    "            data_lens.append(TagFrame(m, trext, blf, data_answer).bitlen)\n",
    "\n",
    "        params.append({\n",
    "            'DR': dr,\n",
    "            'M': m,\n",
    "            'Tari': tari_us,     \n",
    "            'TRext': trext,\n",
    "            'RTcal': rtcal,\n",
    "            'TRcal': trcal,\n",
    "            'BLF': blf,\n",
    "            'Query': ReaderFrame(preamble, query).duration,\n",
    "            'QueryRep': ReaderFrame(sync, query_rep).duration,\n",
    "            'Ack': ReaderFrame(sync, ack).duration,\n",
    "            'Req_RN': ReaderFrame(sync, req_rn).duration,\n",
    "            'Read': ReaderFrame(sync, read).duration,\n",
    "            'Query_len': 22,\n",
    "            'RN16': TagFrame(m, trext, blf, rn16).duration,\n",
    "            'EPC+PC+CRC': TagFrame(m, trext, blf, epc_pc).duration,\n",
    "            'Handle': TagFrame(m, trext, blf, handle).duration,\n",
    "            'Data': data_durations,\n",
    "            'RN16_len': TagFrame(m, trext, blf, rn16).bitlen,\n",
    "            'EPC+PC+CRC_len': TagFrame(m, trext, blf, epc_pc).bitlen,\n",
    "            'Handle_len': TagFrame(m, trext, blf, handle).bitlen,\n",
    "            'Data_len': data_lens,\n",
    "        })\n",
    "    return params\n",
    "\n",
    "params = build_messages_df()\n",
    "DF = pd.DataFrame(params)\n",
    "params"
   ]
  },
  {
   "cell_type": "markdown",
   "id": "363b3726-06b2-4af6-92d3-01121ecdec39",
   "metadata": {},
   "source": [
    "Вероятность успешного перехода из одного состояния в другое определяется\n",
    "исключительно ответами метки (так как во всём проекте сделано допущение, что\n",
    "если метка оказалась в зоне чтения, то она гарантировано включается, корректно\n",
    "получает команду считывателя и принимает участие в текущем раунде). Вероятность\n",
    "перехода в следующее состояние равна вероятности успешного получения считывателем\n",
    "ответа метки.\n",
    "Вероятность определяется выражением:\n",
    "$$ P_{msg} = (1 - BER)^{|msg|} $$\n",
    "где msg - передаваемое сообщение, BER - вероятность битовой ошибки, |msg| - длина сообщения в битах"
   ]
  },
  {
   "cell_type": "code",
   "execution_count": 7,
   "id": "9baff717-c671-4483-8db5-5db06e8deacd",
   "metadata": {},
   "outputs": [
    {
     "data": {
      "text/plain": [
       "[23, 135, 39, 520, 536]"
      ]
     },
     "execution_count": 7,
     "metadata": {},
     "output_type": "execute_result"
    }
   ],
   "source": [
    "reply_lens = [\n",
    "    params[0]['RN16_len'],\n",
    "    params[0]['EPC+PC+CRC_len'],\n",
    "    params[0]['Handle_len'],\n",
    "]\n",
    "for i in range(CHUNKS_NUMBER):\n",
    "    reply_lens.append(params[0]['Data_len'][i])\n",
    "reply_lens"
   ]
  },
  {
   "cell_type": "code",
   "execution_count": 8,
   "id": "0076cec9-9b64-4817-99e5-6cde5fb7944e",
   "metadata": {},
   "outputs": [
    {
     "data": {
      "text/plain": [
       "[0.9772512378214517,\n",
       " 0.8736568985103138,\n",
       " 0.9617319426784903,\n",
       " 0.5943658896200157,\n",
       " 0.5849270275271061]"
      ]
     },
     "execution_count": 8,
     "metadata": {},
     "output_type": "execute_result"
    }
   ],
   "source": [
    "probabilities = []\n",
    "for i in range(len(reply_lens)):\n",
    "    probabilities.append((1 - BER) ** reply_lens[i])\n",
    "probabilities"
   ]
  },
  {
   "cell_type": "code",
   "execution_count": 9,
   "id": "6fad5036-8b74-4590-a790-babf520f3913",
   "metadata": {},
   "outputs": [],
   "source": [
    "T1 = max_t1(params[0]['RTcal'], params[0]['BLF'])\n",
    "T2 = max_t2(params[0]['BLF'])\n",
    "T1_2 = T1 + T2\n",
    "delta = 1e-5"
   ]
  },
  {
   "cell_type": "code",
   "execution_count": 10,
   "id": "b8365c9f-9050-4c4d-ab90-206daaae86f3",
   "metadata": {},
   "outputs": [
    {
     "data": {
      "text/plain": [
       "[0.00047862109374999993,\n",
       " 0.0009080742187499999,\n",
       " 0.0006902617187499999,\n",
       " 0.002827263671875,\n",
       " 0.0028942949218749995]"
      ]
     },
     "execution_count": 10,
     "metadata": {},
     "output_type": "execute_result"
    }
   ],
   "source": [
    "times = []\n",
    "T_arbitrate = T1_2 + params[0]['Query'] + params[0]['RN16'] + 2 * delta\n",
    "times.append(T_arbitrate)\n",
    "T_reply = T1_2 + params[0]['Ack'] + params[0]['EPC+PC+CRC'] + 2 * delta\n",
    "times.append(T_reply)\n",
    "T_acknowledged = T1_2 + params[0]['Req_RN'] + params[0]['Handle'] + 2 * delta\n",
    "times.append(T_acknowledged)\n",
    "\n",
    "for i in range(CHUNKS_NUMBER):\n",
    "    t_chunk = T1_2 + params[0]['Read'] + params[0]['Data'][i] + 2 * delta\n",
    "    times.append(t_chunk)\n",
    "times"
   ]
  },
  {
   "cell_type": "code",
   "execution_count": 11,
   "id": "64d0fc40-70f2-4e16-99af-2af2bc05f628",
   "metadata": {},
   "outputs": [
    {
     "ename": "KeyError",
     "evalue": "'scenario'",
     "output_type": "error",
     "traceback": [
      "\u001b[0;31m---------------------------------------------------------------------------\u001b[0m",
      "\u001b[0;31mKeyError\u001b[0m                                  Traceback (most recent call last)",
      "Cell \u001b[0;32mIn[11], line 1\u001b[0m\n\u001b[0;32m----> 1\u001b[0m res \u001b[38;5;241m=\u001b[39m \u001b[43mcli_run\u001b[49m\u001b[43m(\u001b[49m\u001b[43m)\u001b[49m\n",
      "File \u001b[0;32m~/Documents/PhD/rfidsim/pysim/models/monte_carlo/cli.py:86\u001b[0m, in \u001b[0;36mcli_run\u001b[0;34m(**kwargs)\u001b[0m\n\u001b[1;32m     81\u001b[0m \u001b[38;5;28;01mdef\u001b[39;00m \u001b[38;5;21mcli_run\u001b[39m(\u001b[38;5;241m*\u001b[39m\u001b[38;5;241m*\u001b[39mkwargs):\n\u001b[1;32m     82\u001b[0m \u001b[38;5;250m    \u001b[39m\u001b[38;5;124;03m'''\u001b[39;00m\n\u001b[1;32m     83\u001b[0m \u001b[38;5;124;03m    Точка входа модели.\u001b[39;00m\n\u001b[1;32m     84\u001b[0m \u001b[38;5;124;03m    Задать параметры работы.\u001b[39;00m\n\u001b[1;32m     85\u001b[0m \u001b[38;5;124;03m    '''\u001b[39;00m\n\u001b[0;32m---> 86\u001b[0m     mode \u001b[38;5;241m=\u001b[39m \u001b[43mcheck_vars\u001b[49m\u001b[43m(\u001b[49m\u001b[38;5;241;43m*\u001b[39;49m\u001b[38;5;241;43m*\u001b[39;49m\u001b[43mkwargs\u001b[49m\u001b[43m)\u001b[49m\n\u001b[1;32m     87\u001b[0m     \u001b[38;5;28mprint\u001b[39m(\u001b[38;5;124mf\u001b[39m\u001b[38;5;124m'\u001b[39m\u001b[38;5;124mRunning \u001b[39m\u001b[38;5;132;01m{\u001b[39;00mMODEL_NAME\u001b[38;5;132;01m}\u001b[39;00m\u001b[38;5;124m model. Scenario number \u001b[39m\u001b[38;5;132;01m{\u001b[39;00mkwargs[\u001b[38;5;124m'\u001b[39m\u001b[38;5;124mscenario\u001b[39m\u001b[38;5;124m'\u001b[39m]\u001b[38;5;132;01m}\u001b[39;00m\u001b[38;5;124m'\u001b[39m)\n\u001b[1;32m     88\u001b[0m     \u001b[38;5;28mprint\u001b[39m(\u001b[38;5;124m'\u001b[39m\u001b[38;5;124mВходные параметры: \u001b[39m\u001b[38;5;124m'\u001b[39m, kwargs)\n",
      "File \u001b[0;32m~/Documents/PhD/rfidsim/pysim/models/monte_carlo/cli.py:30\u001b[0m, in \u001b[0;36mcheck_vars\u001b[0;34m(**kwargs)\u001b[0m\n\u001b[1;32m     24\u001b[0m \u001b[38;5;28;01mdef\u001b[39;00m \u001b[38;5;21mcheck_vars\u001b[39m(\u001b[38;5;241m*\u001b[39m\u001b[38;5;241m*\u001b[39mkwargs):\n\u001b[1;32m     25\u001b[0m \u001b[38;5;250m    \u001b[39m\u001b[38;5;124;03m'''\u001b[39;00m\n\u001b[1;32m     26\u001b[0m \u001b[38;5;124;03m    Проверка корректности введённых аргументов и\u001b[39;00m\n\u001b[1;32m     27\u001b[0m \u001b[38;5;124;03m    выбор режима работы симуляции (одиночный или\u001b[39;00m\n\u001b[1;32m     28\u001b[0m \u001b[38;5;124;03m    несколько моделей одновременно)\u001b[39;00m\n\u001b[1;32m     29\u001b[0m \u001b[38;5;124;03m    '''\u001b[39;00m\n\u001b[0;32m---> 30\u001b[0m     \u001b[38;5;28;01mif\u001b[39;00m \u001b[43mkwargs\u001b[49m\u001b[43m[\u001b[49m\u001b[38;5;124;43m'\u001b[39;49m\u001b[38;5;124;43mscenario\u001b[39;49m\u001b[38;5;124;43m'\u001b[39;49m\u001b[43m]\u001b[49m \u001b[38;5;129;01mnot\u001b[39;00m \u001b[38;5;129;01min\u001b[39;00m SCENARIOS_TUPLE:\n\u001b[1;32m     31\u001b[0m         \u001b[38;5;28;01mraise\u001b[39;00m \u001b[38;5;167;01mAttributeError\u001b[39;00m(\u001b[38;5;124m'\u001b[39m\u001b[38;5;124mНедопустимый номер сценария!\u001b[39m\u001b[38;5;124m'\u001b[39m)\n\u001b[1;32m     32\u001b[0m     \u001b[38;5;28;01mif\u001b[39;00m kwargs[\u001b[38;5;124m'\u001b[39m\u001b[38;5;124mscenario\u001b[39m\u001b[38;5;124m'\u001b[39m] \u001b[38;5;241m==\u001b[39m \u001b[38;5;241m3\u001b[39m \u001b[38;5;129;01mand\u001b[39;00m kwargs[\u001b[38;5;124m'\u001b[39m\u001b[38;5;124mchunks_number\u001b[39m\u001b[38;5;124m'\u001b[39m] \u001b[38;5;241m<\u001b[39m \u001b[38;5;241m1\u001b[39m:\n",
      "\u001b[0;31mKeyError\u001b[0m: 'scenario'"
     ]
    }
   ],
   "source": [
    "res = cli_run()"
   ]
  },
  {
   "cell_type": "code",
   "execution_count": null,
   "id": "09f15467-5dc5-46f2-8fe8-b272a691bea2",
   "metadata": {},
   "outputs": [],
   "source": []
  }
 ],
 "metadata": {
  "kernelspec": {
   "display_name": "Python 3 (ipykernel)",
   "language": "python",
   "name": "python3"
  },
  "language_info": {
   "codemirror_mode": {
    "name": "ipython",
    "version": 3
   },
   "file_extension": ".py",
   "mimetype": "text/x-python",
   "name": "python",
   "nbconvert_exporter": "python",
   "pygments_lexer": "ipython3",
   "version": "3.12.3"
  }
 },
 "nbformat": 4,
 "nbformat_minor": 5
}
